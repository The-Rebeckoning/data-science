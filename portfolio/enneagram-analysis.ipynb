{
 "cells": [
  {
   "cell_type": "markdown",
   "metadata": {},
   "source": [
    "# Agree with your enneagram? It depends on your type. \n",
    "\n",
    "In this analysis, I'll explore the relationship between an individual's enneagram and the likelihood that they agree with their type's description.\n",
    "\n",
    "Using self reported, crow-sourced data, I'll consider the reasons why different types agree (or disagree) with their enneagram type description, key takeaways and opportunities for further analysis.\n",
    "\n",
    "I used Python (pandas, seaborn, pandasql). For a Jupyter Notebook with my code, [go here](https://github.com/The-Rebeckoning/data-science/blob/main/portfolio/enneagram-analysis.ipynb).\n",
    "\n",
    "If you'd like to take the test, [here's a free one I like](https://www.eclecticenergies.com/enneagram/test)). If you're inspired by my analysis and looking to spend a little bit of money, I'd recommend the test from the [Enneagram Insitute](https://tests.enneagraminstitute.com/orders/create). \n",
    "\n",
    "Last, for the purposes of this assessment, I'm making assumptions that the enneagram is an accurate assessment of personality. I'll explore the possibility that this is not the case in the last section."
   ]
  },
  {
   "cell_type": "markdown",
   "metadata": {},
   "source": [
    "## What is the enneagram?\n",
    "\n",
    "The enneagram is a personality test that consists of nine basic types.\n",
    "\n",
    "Every person has a basic type that represents their core personality. There's debate about how people come to develop their type (ie nature versus nurture) but what's important is that, once formed, it doesn't change. \n",
    "\n",
    "Here's a picture showing a high level list showing the overview of the nine types from the [Enneagram Institute](https://www.enneagraminstitute.com/type-descriptions):\n",
    "\n",
    "    1 THE REFORMER\n",
    "    The Rational, Idealistic Type: Principled, Purposeful, Self-Controlled, and Perfectionistic\n",
    "\n",
    "    2 THE HELPER\n",
    "    The Caring, Interpersonal Type: Demonstrative, Generous, People-Pleasing, and Possessive\n",
    "\n",
    "    3 THE ACHIEVER\n",
    "    The Success-Oriented, Pragmatic Type: Adaptive, Excelling, Driven, and Image-Conscious\n",
    "\n",
    "    4 THE INDIVIDUALIST\n",
    "    The Sensitive, Withdrawn Type: Expressive, Dramatic, Self-Absorbed, and Temperamental\n",
    "\n",
    "    5 THE INVESTIGATOR\n",
    "    The Intense, Cerebral Type: Perceptive, Innovative, Secretive, and Isolated\n",
    "\n",
    "    6 THE LOYALIST\n",
    "    The Committed, Security-Oriented Type: Engaging, Responsible, Anxious, and Suspicious\n",
    "\n",
    "    7 THE ENTHUSIAST\n",
    "    The Busy, Fun-Loving Type: Spontaneous, Versatile, Distractible, and Scattered\n",
    "\n",
    "    8 THE CHALLENGER\n",
    "    The Powerful, Dominating Type: Self-Confident, Decisive, Willful, and Confrontational\n",
    "\n",
    "    9 THE PEACEMAKER\n",
    "    The Easygoing, Self-Effacing Type: Receptive, Reassuring, Agreeable, and Complacent\n",
    "\n",
    " "
   ]
  },
  {
   "cell_type": "markdown",
   "metadata": {},
   "source": [
    "# Data Cleanup"
   ]
  },
  {
   "cell_type": "code",
   "execution_count": 2,
   "metadata": {},
   "outputs": [
    {
     "name": "stderr",
     "output_type": "stream",
     "text": [
      "/var/folders/m7/pr2047y173x50c8xddxm6ndr0000gn/T/ipykernel_15216/3846083804.py:24: SettingWithCopyWarning: \n",
      "A value is trying to be set on a copy of a slice from a DataFrame.\n",
      "Try using .loc[row_indexer,col_indexer] = value instead\n",
      "\n",
      "See the caveats in the documentation: https://pandas.pydata.org/pandas-docs/stable/user_guide/indexing.html#returning-a-view-versus-a-copy\n",
      "  types_subset['typenum']=types_subset['enneagram'].apply(lambda x: find_number(x))\n",
      "/Library/Frameworks/Python.framework/Versions/3.10/lib/python3.10/site-packages/pandas/core/frame.py:5039: SettingWithCopyWarning: \n",
      "A value is trying to be set on a copy of a slice from a DataFrame\n",
      "\n",
      "See the caveats in the documentation: https://pandas.pydata.org/pandas-docs/stable/user_guide/indexing.html#returning-a-view-versus-a-copy\n",
      "  return super().rename(\n"
     ]
    }
   ],
   "source": [
    "# Import pandas, pandasql, seaborn and regex\n",
    "\n",
    "import pandas as pd\n",
    "from pandasql import sqldf\n",
    "import seaborn as sns \n",
    "import regex as re\n",
    "\n",
    "# Create a dataframe from the raw data\n",
    "\n",
    "types = pd.read_csv('dataset.csv')\n",
    "\n",
    "# Create a new df the columns we need\n",
    "\n",
    "types_subset = types[[\"enneagram\",\"wing\", \"accuracy.enneagram\",\"timestamp\"]]\n",
    "\n",
    "# Create a function to extract the number from the enneagram string\n",
    "\n",
    "def find_number(text):\n",
    "    num = re.findall(r'[0-9]+',text)\n",
    "    return \" \".join(num)\n",
    "\n",
    "# Using the function above, create a new column that has the enneagream in the form of a number for readibliity \n",
    "\n",
    "types_subset['typenum']=types_subset['enneagram'].apply(lambda x: find_number(x))\n",
    "\n",
    "# Relabel the accuracy column for readibility and understanding\n",
    "\n",
    "types_subset.rename(columns = {'accuracy.enneagram':'perceived_accuracy'}, inplace = True)\n"
   ]
  },
  {
   "cell_type": "markdown",
   "metadata": {},
   "source": [
    "# Analysis\n",
    "\n",
    "## Distribution of types"
   ]
  },
  {
   "cell_type": "code",
   "execution_count": 16,
   "metadata": {},
   "outputs": [
    {
     "data": {
      "text/plain": [
       "Text(0.5, 0, 'Enneagram type by count')"
      ]
     },
     "execution_count": 16,
     "metadata": {},
     "output_type": "execute_result"
    },
    {
     "data": {
      "image/png": "[encoded data removed]",
      "text/plain": [
       "<Figure size 432x288 with 1 Axes>"
      ]
     },
     "metadata": {
      "needs_background": "light"
     },
     "output_type": "display_data"
    }
   ],
   "source": [
    "# Create new dataframe to sort the values so they show in order\n",
    "\n",
    "sorted = types_subset.sort_values(by = 'typenum')\n",
    "\n",
    "# Create histogram \n",
    "\n",
    "count_enneagram_hist = sns.histplot(data=sorted, x=\"typenum\")\n",
    "\n",
    "# Label and generate the histogram\n",
    "\n",
    "count_enneagram_hist.set_xlabel(\"Enneagram type by count\")\n",
    "\n"
   ]
  },
  {
   "cell_type": "markdown",
   "metadata": {},
   "source": [
    "As we can see, the most common enneagram type in our dataset is a type nine. Twos and fours and the next most common type. Ones, fives and sixes are evenly represented whereas threes, sevens and eights were least common.\n",
    "\n",
    "Although no comprehensive enneagram estimate exists for the general population, it's most often estimated that the nine is the most common enneagram type. "
   ]
  },
  {
   "cell_type": "markdown",
   "metadata": {},
   "source": [
    "### Which enneagram types have the highest and lowest accuracy scores? \n",
    "\n",
    "When people report their enneagram type, they're also asked how accurate the enneagram is describing their personality.\n",
    "\n",
    "Which types tend to report that their enneagram is accurate? Which report lower accuracy scores?\n",
    "\n",
    "Of those that find the enneagram most accurate in describing their personality are eights, threes and fours. \n",
    "\n",
    "The respondents least likely to believe their type accurately describes their personality are fives, followed by sixes and then twos. "
   ]
  },
  {
   "cell_type": "code",
   "execution_count": 19,
   "metadata": {},
   "outputs": [
    {
     "data": {
      "text/html": [
       "<div>\n",
       "<style scoped>\n",
       "    .dataframe tbody tr th:only-of-type {\n",
       "        vertical-align: middle;\n",
       "    }\n",
       "\n",
       "    .dataframe tbody tr th {\n",
       "        vertical-align: top;\n",
       "    }\n",
       "\n",
       "    .dataframe thead th {\n",
       "        text-align: right;\n",
       "    }\n",
       "</style>\n",
       "<table border=\"1\" class=\"dataframe\">\n",
       "  <thead>\n",
       "    <tr style=\"text-align: right;\">\n",
       "      <th></th>\n",
       "      <th>Enneagram</th>\n",
       "      <th>Perceived Accuracy</th>\n",
       "    </tr>\n",
       "  </thead>\n",
       "  <tbody>\n",
       "    <tr>\n",
       "      <th>0</th>\n",
       "      <td>Type 8 (the Protector or Challenger)</td>\n",
       "      <td>4.197368</td>\n",
       "    </tr>\n",
       "    <tr>\n",
       "      <th>1</th>\n",
       "      <td>Type 3 (the Performer or Achiever)</td>\n",
       "      <td>4.151042</td>\n",
       "    </tr>\n",
       "    <tr>\n",
       "      <th>2</th>\n",
       "      <td>Type 4 (the Individualist or Romantic)</td>\n",
       "      <td>4.108374</td>\n",
       "    </tr>\n",
       "    <tr>\n",
       "      <th>3</th>\n",
       "      <td>Type 9 (the Peacemaker or Mediator)</td>\n",
       "      <td>4.063181</td>\n",
       "    </tr>\n",
       "    <tr>\n",
       "      <th>4</th>\n",
       "      <td>Type 1 (the Reformer or Perfectionist)</td>\n",
       "      <td>4.002967</td>\n",
       "    </tr>\n",
       "    <tr>\n",
       "      <th>5</th>\n",
       "      <td>Type 7 (the Enthusiast or Epicure)</td>\n",
       "      <td>3.977273</td>\n",
       "    </tr>\n",
       "    <tr>\n",
       "      <th>6</th>\n",
       "      <td>Type 2 (the Helper or Giver)</td>\n",
       "      <td>3.927835</td>\n",
       "    </tr>\n",
       "    <tr>\n",
       "      <th>7</th>\n",
       "      <td>Type 6 (the Loyalist or Loyal Skeptic)</td>\n",
       "      <td>3.913545</td>\n",
       "    </tr>\n",
       "    <tr>\n",
       "      <th>8</th>\n",
       "      <td>Type 5 (the Investigator or Observer)</td>\n",
       "      <td>3.704348</td>\n",
       "    </tr>\n",
       "  </tbody>\n",
       "</table>\n",
       "</div>"
      ],
      "text/plain": [
       "                                Enneagram  Perceived Accuracy\n",
       "0    Type 8 (the Protector or Challenger)            4.197368\n",
       "1      Type 3 (the Performer or Achiever)            4.151042\n",
       "2  Type 4 (the Individualist or Romantic)            4.108374\n",
       "3     Type 9 (the Peacemaker or Mediator)            4.063181\n",
       "4  Type 1 (the Reformer or Perfectionist)            4.002967\n",
       "5      Type 7 (the Enthusiast or Epicure)            3.977273\n",
       "6            Type 2 (the Helper or Giver)            3.927835\n",
       "7  Type 6 (the Loyalist or Loyal Skeptic)            3.913545\n",
       "8   Type 5 (the Investigator or Observer)            3.704348"
      ]
     },
     "execution_count": 19,
     "metadata": {},
     "output_type": "execute_result"
    }
   ],
   "source": [
    "q = \"SELECT enneagram AS 'Enneagram', AVG(perceived_accuracy) AS 'Perceived Accuracy' FROM types_subset GROUP BY enneagram ORDER BY AVG(perceived_accuracy) DESC \"\n",
    "\n",
    "sqldf(q, locals())\n",
    "\n"
   ]
  },
  {
   "cell_type": "markdown",
   "metadata": {},
   "source": [
    "## Key takeaways\n",
    "\n",
    "### Takeaway one: Ego-focused types believe the enneagram is accurate\n",
    "\n",
    "If we compare the qualities between types with the highest and lowest perceived accuracy scores, we learn that types that exhibit more selfishness are most likely to perceive their description as accurate. \n",
    "\n",
    "Eights are the most dominant and strong-willed of enneagram types. Threes are the \"go getters\" of the enneagram and four the romantics. These are three very different types but they all show a strong degree of focus on self and desire to get their needs met.\n",
    "\n",
    "It's possible that these types like their description because a those descriptions are widely celebrated (which brings us to our next takeaway).\n",
    "\n",
    "### Takeaway two: More overlooked types agree less with their type description\n",
    "\n",
    "Now, we can turn to those types that are least likely to perceive their enenagram as accurate: fives, sixes and twos. At first glance, these three types have very little in common. Fives are the thinkers, sixes the \"go down with the ship\" loyalists and twos the helpers.\n",
    "\n",
    "In terms of personality, what these types have in common is they represent qualities that are needed in society but are often overlooked. For example, the two \"the Helper\" takes care of others. This type of emotional labor, though badly-needed, is often unseen. \n",
    "\n",
    "When these types read their description, perhaps it's a reminder of the parts of themselves are are unrecognized by society and, in an effort to distance themselves from that self, they perceive it as less accurate. \n",
    "\n",
    "\n",
    "### Takeaway three: Delivery of self-help resources should be subjective\n",
    "\n",
    "When it comes to personality tests, before communicating the results, it's important to take a step back and consider how the person receiving the personality test will understand the results. For example, an enneagram who is more likely to perceive the results positively may need to consider how the dark side of their type is also relevant and vice-versa. \n",
    "\n",
    "While this might seem like common sense, subjectivity is not always a framework for approaches to mental health. \n",
    "\n",
    "\n",
    "### Implications\n",
    "\n",
    "The enneagram provides us with opportunity to understand the relationship between self-improvement and personality.\n",
    "\n",
    "- Analysis about whether or not the enneagram is a useful measure of personality\n",
    "- Compare the enneagram to other personality tests in terms of perceived accuracy (for example, Myer's Briggs)\n",
    "- Consider how mood impacts the likelihood of accepting/rejecting personality assessment"
   ]
  }
 ],
 "metadata": {
  "interpreter": {
   "hash": "aee8b7b246df8f9039afb4144a1f6fd8d2ca17a180786b69acc140d282b71a49"
  },
  "kernelspec": {
   "display_name": "sql",
   "language": "python",
   "name": "sql"
  },
  "language_info": {
   "codemirror_mode": {
    "name": "ipython",
    "version": 3
   },
   "file_extension": ".py",
   "mimetype": "text/x-python",
   "name": "python",
   "nbconvert_exporter": "python",
   "pygments_lexer": "ipython3",
   "version": "3.10.1"
  }
 },
 "nbformat": 4,
 "nbformat_minor": 2
}
