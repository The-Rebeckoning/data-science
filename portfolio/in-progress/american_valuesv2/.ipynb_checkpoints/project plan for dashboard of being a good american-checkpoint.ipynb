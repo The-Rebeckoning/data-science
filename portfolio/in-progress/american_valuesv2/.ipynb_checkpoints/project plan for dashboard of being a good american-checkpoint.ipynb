{
 "cells": [
  {
   "cell_type": "markdown",
   "id": "f7ae260d",
   "metadata": {},
   "source": [
    "# Phase 1 \n",
    "EDA\n",
    "\n",
    "object oriented approach to data analysis\n",
    "\n",
    "\n",
    "Summary Statistics for general population \n"
   ]
  },
  {
   "cell_type": "markdown",
   "id": "1532fb50",
   "metadata": {},
   "source": [
    "# Phase 2 \n",
    "weighting for data: data visualizations reflect how likely the respondent reflects the general population \n",
    "\n",
    "interactive dashboards for exploratory analysis\n"
   ]
  },
  {
   "cell_type": "markdown",
   "id": "98d3b602",
   "metadata": {},
   "source": [
    "# Phase 3\n",
    "generates text that tells reader how many of people in their demographic agree with their statements\n",
    "\n",
    "interactive dashboards for exploratory analysis that segments by demographic (allowing you to compare the mode that is weighted to reflect the demographic"
   ]
  },
  {
   "cell_type": "markdown",
   "id": "912f3e78",
   "metadata": {},
   "source": []
  },
  {
   "cell_type": "markdown",
   "id": "665e3d0e",
   "metadata": {},
   "source": [
    "# Final requirements list\n",
    "\n",
    "object oriented approach to data analysis\n",
    "generates text that tells reader how many of people in their demographic agree with their statements\n",
    "Summary Statistics for general population \n",
    "\n",
    "\n",
    "weighting for data: data visualizations reflect how likely the respondent reflects the general population \n",
    "\n",
    "interactive dashboards for exploratory analysis that segments by demographic (allowing you to compare the mode that is weighted to reflect the demographic\n",
    "\n",
    "EDA\n",
    "\n",
    "https://www.analyticsvidhya.com/blog/2021/08/how-to-perform-exploratory-data-analysis-a-guide-for-beginners/\n",
    "\n",
    "https://www.youtube.com/watch?v=ZT_hlZLYHyQ\n",
    "\n",
    "https://therebeckoning.herokuapp.com/#good-american\n"
   ]
  }
 ],
 "metadata": {
  "kernelspec": {
   "display_name": "Python 3 (ipykernel)",
   "language": "python",
   "name": "python3"
  },
  "language_info": {
   "codemirror_mode": {
    "name": "ipython",
    "version": 3
   },
   "file_extension": ".py",
   "mimetype": "text/x-python",
   "name": "python",
   "nbconvert_exporter": "python",
   "pygments_lexer": "ipython3",
   "version": "3.10.1"
  }
 },
 "nbformat": 4,
 "nbformat_minor": 5
}
