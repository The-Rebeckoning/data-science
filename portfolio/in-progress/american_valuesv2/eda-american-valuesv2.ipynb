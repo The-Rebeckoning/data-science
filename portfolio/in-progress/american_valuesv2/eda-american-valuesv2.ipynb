{
 "cells": [
  {
   "cell_type": "markdown",
   "metadata": {},
   "source": [
    "# Explore the Data"
   ]
  },
  {
   "cell_type": "code",
   "execution_count": null,
   "metadata": {},
   "outputs": [
    {
     "ename": "",
     "evalue": "",
     "output_type": "error",
     "traceback": [
      "\u001b[1;31mJupyter cannot be started. Error attempting to locate Jupyter: Running cells with 'Python 3.10.7 64-bit' requires jupyter and notebook package.\n",
      "\u001b[1;31mRun the following command to install 'jupyter and notebook' into the Python environment. \n",
      "\u001b[1;31mCommand: 'python -m pip install jupyter notebook -U\n",
      "\u001b[1;31mor\n",
      "\u001b[1;31mconda install jupyter notebook -U'\n",
      "\u001b[1;31mClick <a href='https://aka.ms/installJupyterForVSCode'>here</a> for more info."
     ]
    }
   ],
   "source": [
    "import pandas as pd\n",
    "df = pd.read_csv('nonvoters_data.csv')\n",
    "\n",
    "df.head()"
   ]
  },
  {
   "cell_type": "code",
   "execution_count": null,
   "metadata": {},
   "outputs": [],
   "source": [
    "df.info()"
   ]
  },
  {
   "cell_type": "markdown",
   "metadata": {},
   "source": [
    "By looking at the info from our dataframe, we learn that we have 119 columns in our dataset and 5,836 rows. \n",
    "\n",
    "There's too many columns to see the full number and so, to find out information about the columns, [we refer to the codebook for the dataset](https://github.com/fivethirtyeight/data/blob/master/non-voters/nonvoters_codebook.pdf).\n",
    "\n",
    "This analysis will focus on questions two and three in the study and so we'll filter the dataframe to only include the pertinent columns.\n"
   ]
  },
  {
   "cell_type": "markdown",
   "metadata": {},
   "source": [
    "2. In your view, how important are each of the following to being a good American?\n",
    "\n",
    "1. Voting in elections\n",
    "2. Serving on a jury\n",
    "3. Following what happens in government and politics\n",
    "4. Displaying the American flag\n",
    "5. Participating in the U.S. Census every ten years\n",
    "6. Knowing the Pledge of Allegiance\n",
    "7. Supporting the military\n",
    "8. Respecting the opinions of those who disagree with you\n",
    "9. Believing in God\n",
    "10. Protesting if you believe government actions are wrong\n",
    "    \n",
    "Responses\n",
    "1. Very important\n",
    "2. Somewhat important\n",
    "3. Not so important\n",
    "4. Not at all important\n",
    "\n",
    "\n",
    "3. How much do you agree or disagree with the following statements?\n",
    "\n",
    "1. Systemic racism is a problem in the United States.\n",
    "2. Systemic racism in policing is a bigger problem than violence and vandalism in protests.\n",
    "3. Society as a whole has become too soft and feminine.\n",
    "4. The mainstream media is more interested in making money than telling the truth.\n",
    "5. Traditional parties and politicians don’t care about people like me.\n",
    "6. The way people talk needs to change with the times to be more sensitive to people with different backgrounds.\n",
    "\n",
    "Responses\n",
    "1. Strongly agree\n",
    "2. Somewhat agree\n",
    "3. Somewhat disagree\n",
    "4. Strongly disagree"
   ]
  },
  {
   "cell_type": "code",
   "execution_count": null,
   "metadata": {},
   "outputs": [],
   "source": [
    "df.describe()"
   ]
  },
  {
   "cell_type": "markdown",
   "metadata": {},
   "source": [
    "Now that we've inspected our data, we can make a list of the ways we'll need to restructure the data.\n",
    "\n",
    "1) Create bins for our age data: create quartiles for age data\n",
    "2) Filter dataframe for the specific questions: questions two and three \n",
    "3) Remove values of -1 \n",
    "4) Likert Scale data needs to be relabeled\n",
    "5) Rename Columns"
   ]
  },
  {
   "cell_type": "markdown",
   "metadata": {},
   "source": [
    "# Clean and Restructure the Data"
   ]
  },
  {
   "cell_type": "markdown",
   "metadata": {},
   "source": [
    "## Create bins for our age data: create quartiles for age data"
   ]
  },
  {
   "cell_type": "code",
   "execution_count": null,
   "metadata": {},
   "outputs": [],
   "source": [
    "df[\"ppage\"].describe()\n",
    "\n",
    "# Use quartile values to create bins\n",
    "\n",
    "age_bins = [\"22-36\",\"37-54\",\"55-65\",\"66-94\"]\n",
    "\n",
    "df['age_binned'] = pd.qcut(df['ppage'],\n",
    "                              q=[0,0.25, 0.5, 0.75, 1],\n",
    "                              labels=age_bins)\n",
    "\n",
    "df\n"
   ]
  },
  {
   "cell_type": "markdown",
   "metadata": {},
   "source": [
    "## Filter dataframe for the specific questions"
   ]
  },
  {
   "cell_type": "code",
   "execution_count": null,
   "metadata": {},
   "outputs": [],
   "source": [
    "import re\n",
    "\n",
    "# Create new dataframe that only includes demographic and Questions two and three. \n",
    "# We'll use these lists to create our final dataframe\n",
    "\n",
    "full_column_list = list(df.columns)\n",
    "\n",
    "question_columns = []\n",
    "\n",
    "demographic_columns = []\n",
    "\n",
    "for column in full_column_list:\n",
    "    # Append any columns that contain the text Q2_ or Q2_\n",
    "    if re.search(\"Q2_.+\", column) or re.search(\"Q3_.+\", column):\n",
    "        question_columns.append(column)\n",
    "    # Append demographic criteria to list of list of demographic variables\n",
    "    elif df[column].dtype == object:\n",
    "        demographic_columns.append(column)\n",
    "        # TO DO: Remove and replace with binned data\n",
    "    elif re.search(\"age_binned\",column):\n",
    "        demographic_columns.append(column)\n",
    "\n",
    "# Create full list of columns we'll use for our subset\n",
    "full_column_list = (question_columns+demographic_columns)\n",
    "\n",
    "# Create a copy of the dataframe we'll use for our final df\n",
    "subset_df = df[full_column_list].copy()\n"
   ]
  },
  {
   "cell_type": "code",
   "execution_count": null,
   "metadata": {},
   "outputs": [],
   "source": [
    "# Remove values that are below zero \n",
    "\n",
    "for name in question_columns:\n",
    "    subset_df.drop(subset_df[subset_df[name]<0].index, inplace = True)\n",
    "\n",
    "subset_df.describe()"
   ]
  },
  {
   "cell_type": "markdown",
   "metadata": {},
   "source": [
    "# Use Lambda function to relabel Likert scale data\n",
    "\n"
   ]
  },
  {
   "cell_type": "code",
   "execution_count": null,
   "metadata": {},
   "outputs": [],
   "source": [
    "def likert_converter (column_name):\n",
    "    \"\"\"Replace Likert Scale numeric values with words\"\"\"\n",
    "    if 'Q2_' in column_name:\n",
    "        subset_df[column_name] = subset_df[column_name].map(lambda x: 'Very Important' if x==1 \n",
    "        else ('Somewhat important' if x==2 \n",
    "        else('Not so important'if x==3 \n",
    "        else 'Not at all important')))\n",
    "    else:\n",
    "        subset_df[column_name] = subset_df[column_name].map(lambda x: 'Very Important' if x==1 \n",
    "        else ('Somewhat important' \n",
    "        if x==2 else('Not so important'if x==3 \n",
    "        else 'Not at all important')))\n",
    "\n",
    "\n",
    "#Replace with correct column list\n",
    "for column in question_columns: \n",
    "    likert_converter(column)\n",
    "\n",
    " \n"
   ]
  },
  {
   "cell_type": "markdown",
   "metadata": {},
   "source": [
    "## Rename columns\n"
   ]
  },
  {
   "cell_type": "code",
   "execution_count": null,
   "metadata": {},
   "outputs": [],
   "source": [
    "column_dict = {\"Q2_1\":\"Voting\",\n",
    "        \"Q2_2\": \"Jury\",\n",
    "        \"Q2_3\": \"Govt_Politics\",\n",
    "        \"Q2_4\": \"American_Flag\",\n",
    "        \"Q2_5\": \"US_Census\",\n",
    "        \"Q2_6\": \"Pledge\",\n",
    "        \"Q2_7\":\"Military Support\",\n",
    "        \"Q2_8\": \"Respecting_Others\",\n",
    "        \"Q2_9\":\"Believing in God\",\n",
    "        \"Q2_10\":\"Protesting\", \n",
    "        \"Q3_1\": \"Racism_US\",\n",
    "        \"Q3_2\": \"Racism_Policing\",\n",
    "        \"Q3_3\":\"Society_Whole\",\n",
    "        \"Q3_4\":\"Mainstream_Media\",\n",
    "        \"Q3_5\":\"Traditional_Parties\",\n",
    "        \"Q3_5\":\"Way_People_Talk\"}\n",
    "\n",
    "\n",
    "subset_df = subset_df.rename(columns=column_dict)\n",
    "\n"
   ]
  },
  {
   "cell_type": "code",
   "execution_count": null,
   "metadata": {},
   "outputs": [],
   "source": [
    "# Checking for missing values for our dataframe\n",
    "subset_df.isna().sum().sort_values()"
   ]
  },
  {
   "cell_type": "markdown",
   "metadata": {},
   "source": [
    "## Export df into csv file"
   ]
  },
  {
   "cell_type": "code",
   "execution_count": null,
   "metadata": {},
   "outputs": [],
   "source": [
    "subset_df.to_csv('american_values.csv')"
   ]
  },
  {
   "cell_type": "markdown",
   "metadata": {},
   "source": [
    "# Perform exploratory analysis & visualization using Matplotlib and Seaborn"
   ]
  },
  {
   "cell_type": "code",
   "execution_count": null,
   "metadata": {},
   "outputs": [],
   "source": [
    "# Create visualizations for dataset "
   ]
  },
  {
   "cell_type": "markdown",
   "metadata": {},
   "source": [
    "# Ask and Answer questions about the data in a Jupyter Notebook\n",
    "\n",
    "- Do people of certain backgrounds tend to think differently American values?\n",
    "- Do certain answers correlate with each other?"
   ]
  },
  {
   "cell_type": "markdown",
   "metadata": {},
   "source": [
    "# Summarize your inference and write a conclusion\n"
   ]
  }
 ],
 "metadata": {
  "kernelspec": {
   "display_name": "Python 3.9.6 64-bit",
   "language": "python",
   "name": "python3"
  },
  "language_info": {
   "codemirror_mode": {
    "name": "ipython",
    "version": 3
   },
   "file_extension": ".py",
   "mimetype": "text/x-python",
   "name": "python",
   "nbconvert_exporter": "python",
   "pygments_lexer": "ipython3",
   "version": "3.9.6"
  },
  "orig_nbformat": 4,
  "vscode": {
   "interpreter": {
    "hash": "31f2aee4e71d21fbe5cf8b01ff0e069b9275f58929596ceb00d14d90e3e16cd6"
   }
  }
 },
 "nbformat": 4,
 "nbformat_minor": 2
}
