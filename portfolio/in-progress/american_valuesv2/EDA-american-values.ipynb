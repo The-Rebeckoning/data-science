{
 "cells": [
  {
   "cell_type": "code",
   "execution_count": 2,
   "metadata": {},
   "outputs": [],
   "source": [
    "# import libraries\n",
    "\n",
    "import numpy as np\n",
    "import pandas as pd\n",
    "import matplotlib.pyplot as plt\n",
    "%matplotlib inline\n",
    "import seaborn as sns"
   ]
  },
  {
   "cell_type": "code",
   "execution_count": 3,
   "metadata": {},
   "outputs": [
    {
     "data": {
      "text/html": [
       "<div>\n",
       "<style scoped>\n",
       "    .dataframe tbody tr th:only-of-type {\n",
       "        vertical-align: middle;\n",
       "    }\n",
       "\n",
       "    .dataframe tbody tr th {\n",
       "        vertical-align: top;\n",
       "    }\n",
       "\n",
       "    .dataframe thead th {\n",
       "        text-align: right;\n",
       "    }\n",
       "</style>\n",
       "<table border=\"1\" class=\"dataframe\">\n",
       "  <thead>\n",
       "    <tr style=\"text-align: right;\">\n",
       "      <th></th>\n",
       "      <th>RespId</th>\n",
       "      <th>weight</th>\n",
       "      <th>Q1</th>\n",
       "      <th>Q2_1</th>\n",
       "      <th>Q2_2</th>\n",
       "      <th>Q2_3</th>\n",
       "      <th>Q2_4</th>\n",
       "      <th>Q2_5</th>\n",
       "      <th>Q2_6</th>\n",
       "      <th>Q2_7</th>\n",
       "      <th>...</th>\n",
       "      <th>Q30</th>\n",
       "      <th>Q31</th>\n",
       "      <th>Q32</th>\n",
       "      <th>Q33</th>\n",
       "      <th>ppage</th>\n",
       "      <th>educ</th>\n",
       "      <th>race</th>\n",
       "      <th>gender</th>\n",
       "      <th>income_cat</th>\n",
       "      <th>voter_category</th>\n",
       "    </tr>\n",
       "  </thead>\n",
       "  <tbody>\n",
       "    <tr>\n",
       "      <th>0</th>\n",
       "      <td>470001</td>\n",
       "      <td>0.7516</td>\n",
       "      <td>1</td>\n",
       "      <td>1</td>\n",
       "      <td>1</td>\n",
       "      <td>2</td>\n",
       "      <td>4</td>\n",
       "      <td>1</td>\n",
       "      <td>4</td>\n",
       "      <td>2</td>\n",
       "      <td>...</td>\n",
       "      <td>2</td>\n",
       "      <td>NaN</td>\n",
       "      <td>1.0</td>\n",
       "      <td>NaN</td>\n",
       "      <td>73</td>\n",
       "      <td>College</td>\n",
       "      <td>White</td>\n",
       "      <td>Female</td>\n",
       "      <td>$75-125k</td>\n",
       "      <td>always</td>\n",
       "    </tr>\n",
       "    <tr>\n",
       "      <th>1</th>\n",
       "      <td>470002</td>\n",
       "      <td>1.0267</td>\n",
       "      <td>1</td>\n",
       "      <td>1</td>\n",
       "      <td>2</td>\n",
       "      <td>2</td>\n",
       "      <td>3</td>\n",
       "      <td>1</td>\n",
       "      <td>1</td>\n",
       "      <td>2</td>\n",
       "      <td>...</td>\n",
       "      <td>3</td>\n",
       "      <td>NaN</td>\n",
       "      <td>NaN</td>\n",
       "      <td>1.0</td>\n",
       "      <td>90</td>\n",
       "      <td>College</td>\n",
       "      <td>White</td>\n",
       "      <td>Female</td>\n",
       "      <td>$125k or more</td>\n",
       "      <td>always</td>\n",
       "    </tr>\n",
       "    <tr>\n",
       "      <th>2</th>\n",
       "      <td>470003</td>\n",
       "      <td>1.0844</td>\n",
       "      <td>1</td>\n",
       "      <td>1</td>\n",
       "      <td>1</td>\n",
       "      <td>2</td>\n",
       "      <td>2</td>\n",
       "      <td>1</td>\n",
       "      <td>1</td>\n",
       "      <td>2</td>\n",
       "      <td>...</td>\n",
       "      <td>2</td>\n",
       "      <td>NaN</td>\n",
       "      <td>2.0</td>\n",
       "      <td>NaN</td>\n",
       "      <td>53</td>\n",
       "      <td>College</td>\n",
       "      <td>White</td>\n",
       "      <td>Male</td>\n",
       "      <td>$125k or more</td>\n",
       "      <td>sporadic</td>\n",
       "    </tr>\n",
       "    <tr>\n",
       "      <th>3</th>\n",
       "      <td>470007</td>\n",
       "      <td>0.6817</td>\n",
       "      <td>1</td>\n",
       "      <td>1</td>\n",
       "      <td>1</td>\n",
       "      <td>1</td>\n",
       "      <td>3</td>\n",
       "      <td>1</td>\n",
       "      <td>1</td>\n",
       "      <td>1</td>\n",
       "      <td>...</td>\n",
       "      <td>2</td>\n",
       "      <td>NaN</td>\n",
       "      <td>1.0</td>\n",
       "      <td>NaN</td>\n",
       "      <td>58</td>\n",
       "      <td>Some college</td>\n",
       "      <td>Black</td>\n",
       "      <td>Female</td>\n",
       "      <td>$40-75k</td>\n",
       "      <td>sporadic</td>\n",
       "    </tr>\n",
       "    <tr>\n",
       "      <th>4</th>\n",
       "      <td>480008</td>\n",
       "      <td>0.9910</td>\n",
       "      <td>1</td>\n",
       "      <td>1</td>\n",
       "      <td>1</td>\n",
       "      <td>-1</td>\n",
       "      <td>1</td>\n",
       "      <td>1</td>\n",
       "      <td>1</td>\n",
       "      <td>1</td>\n",
       "      <td>...</td>\n",
       "      <td>1</td>\n",
       "      <td>-1.0</td>\n",
       "      <td>NaN</td>\n",
       "      <td>NaN</td>\n",
       "      <td>81</td>\n",
       "      <td>High school or less</td>\n",
       "      <td>White</td>\n",
       "      <td>Male</td>\n",
       "      <td>$40-75k</td>\n",
       "      <td>always</td>\n",
       "    </tr>\n",
       "  </tbody>\n",
       "</table>\n",
       "<p>5 rows × 119 columns</p>\n",
       "</div>"
      ],
      "text/plain": [
       "   RespId  weight  Q1  Q2_1  Q2_2  Q2_3  Q2_4  Q2_5  Q2_6  Q2_7  ...  Q30  \\\n",
       "0  470001  0.7516   1     1     1     2     4     1     4     2  ...    2   \n",
       "1  470002  1.0267   1     1     2     2     3     1     1     2  ...    3   \n",
       "2  470003  1.0844   1     1     1     2     2     1     1     2  ...    2   \n",
       "3  470007  0.6817   1     1     1     1     3     1     1     1  ...    2   \n",
       "4  480008  0.9910   1     1     1    -1     1     1     1     1  ...    1   \n",
       "\n",
       "   Q31  Q32  Q33  ppage                 educ   race  gender     income_cat  \\\n",
       "0  NaN  1.0  NaN     73              College  White  Female       $75-125k   \n",
       "1  NaN  NaN  1.0     90              College  White  Female  $125k or more   \n",
       "2  NaN  2.0  NaN     53              College  White    Male  $125k or more   \n",
       "3  NaN  1.0  NaN     58         Some college  Black  Female        $40-75k   \n",
       "4 -1.0  NaN  NaN     81  High school or less  White    Male        $40-75k   \n",
       "\n",
       "   voter_category  \n",
       "0          always  \n",
       "1          always  \n",
       "2        sporadic  \n",
       "3        sporadic  \n",
       "4          always  \n",
       "\n",
       "[5 rows x 119 columns]"
      ]
     },
     "execution_count": 3,
     "metadata": {},
     "output_type": "execute_result"
    }
   ],
   "source": [
    "df = pd.read_csv('nonvoters_data.csv')\n",
    "\n",
    "# Here's what our data looks like\n",
    "\n",
    "df.head()\n"
   ]
  },
  {
   "cell_type": "code",
   "execution_count": null,
   "metadata": {},
   "outputs": [],
   "source": []
  },
  {
   "cell_type": "markdown",
   "metadata": {},
   "source": [
    "## Null values \n",
    "\n",
    "In this part of the EDA, we'll in inspect our null values. \n",
    "\n"
   ]
  },
  {
   "cell_type": "code",
   "execution_count": 4,
   "metadata": {},
   "outputs": [
    {
     "data": {
      "text/plain": [
       "<AxesSubplot:>"
      ]
     },
     "execution_count": 4,
     "metadata": {},
     "output_type": "execute_result"
    },
    {
     "data": {
      "image/png": "[encoded data removed]",
      "text/plain": [
       "<Figure size 432x288 with 1 Axes>"
      ]
     },
     "metadata": {
      "needs_background": "light"
     },
     "output_type": "display_data"
    }
   ],
   "source": [
    "sns.heatmap(df.isnull(),cbar=False,cmap='viridis')\n"
   ]
  },
  {
   "cell_type": "markdown",
   "metadata": {},
   "source": [
    "We can see the majority of our null values happen for specific questions. \n",
    "\n",
    "For this reason, we'll exclude those questions from our analysis."
   ]
  },
  {
   "cell_type": "markdown",
   "metadata": {},
   "source": [
    "# Drop columns with missing values\n",
    "\n"
   ]
  },
  {
   "cell_type": "code",
   "execution_count": 5,
   "metadata": {},
   "outputs": [
    {
     "data": {
      "text/html": [
       "<div>\n",
       "<style scoped>\n",
       "    .dataframe tbody tr th:only-of-type {\n",
       "        vertical-align: middle;\n",
       "    }\n",
       "\n",
       "    .dataframe tbody tr th {\n",
       "        vertical-align: top;\n",
       "    }\n",
       "\n",
       "    .dataframe thead th {\n",
       "        text-align: right;\n",
       "    }\n",
       "</style>\n",
       "<table border=\"1\" class=\"dataframe\">\n",
       "  <thead>\n",
       "    <tr style=\"text-align: right;\">\n",
       "      <th></th>\n",
       "      <th>RespId</th>\n",
       "      <th>weight</th>\n",
       "      <th>Q1</th>\n",
       "      <th>Q2_1</th>\n",
       "      <th>Q2_2</th>\n",
       "      <th>Q2_3</th>\n",
       "      <th>Q2_4</th>\n",
       "      <th>Q2_5</th>\n",
       "      <th>Q2_6</th>\n",
       "      <th>Q2_7</th>\n",
       "      <th>...</th>\n",
       "      <th>Q30</th>\n",
       "      <th>Q31</th>\n",
       "      <th>Q32</th>\n",
       "      <th>Q33</th>\n",
       "      <th>ppage</th>\n",
       "      <th>educ</th>\n",
       "      <th>race</th>\n",
       "      <th>gender</th>\n",
       "      <th>income_cat</th>\n",
       "      <th>voter_category</th>\n",
       "    </tr>\n",
       "  </thead>\n",
       "  <tbody>\n",
       "  </tbody>\n",
       "</table>\n",
       "<p>0 rows × 119 columns</p>\n",
       "</div>"
      ],
      "text/plain": [
       "Empty DataFrame\n",
       "Columns: [RespId, weight, Q1, Q2_1, Q2_2, Q2_3, Q2_4, Q2_5, Q2_6, Q2_7, Q2_8, Q2_9, Q2_10, Q3_1, Q3_2, Q3_3, Q3_4, Q3_5, Q3_6, Q4_1, Q4_2, Q4_3, Q4_4, Q4_5, Q4_6, Q5, Q6, Q7, Q8_1, Q8_2, Q8_3, Q8_4, Q8_5, Q8_6, Q8_7, Q8_8, Q8_9, Q9_1, Q9_2, Q9_3, Q9_4, Q10_1, Q10_2, Q10_3, Q10_4, Q11_1, Q11_2, Q11_3, Q11_4, Q11_5, Q11_6, Q14, Q15, Q16, Q17_1, Q17_2, Q17_3, Q17_4, Q18_1, Q18_2, Q18_3, Q18_4, Q18_5, Q18_6, Q18_7, Q18_8, Q18_9, Q18_10, Q19_1, Q19_2, Q19_3, Q19_4, Q19_5, Q19_6, Q19_7, Q19_8, Q19_9, Q19_10, Q20, Q21, Q22, Q23, Q24, Q25, Q26, Q27_1, Q27_2, Q27_3, Q27_4, Q27_5, Q27_6, Q28_1, Q28_2, Q28_3, Q28_4, Q28_5, Q28_6, Q28_7, Q28_8, Q29_1, ...]\n",
       "Index: []\n",
       "\n",
       "[0 rows x 119 columns]"
      ]
     },
     "execution_count": 5,
     "metadata": {},
     "output_type": "execute_result"
    }
   ],
   "source": [
    "df.dropna()"
   ]
  },
  {
   "cell_type": "markdown",
   "metadata": {},
   "source": [
    "# Rename and filter out the columns for our final dataframe\n",
    "\n",
    "Our analysis will focus on what it means to be a good American and perceptions around racism. \n",
    "\n",
    "These subjects correspond with questions two and three. For this reason, I'm going to rename the corresponding columns and then create a new, final dataframe that will also include demographic information. "
   ]
  },
  {
   "cell_type": "code",
   "execution_count": 6,
   "metadata": {},
   "outputs": [
    {
     "data": {
      "text/plain": [
       "RespId              int64\n",
       "weight            float64\n",
       "Q1                  int64\n",
       "Q2_1                int64\n",
       "Q2_2                int64\n",
       "                   ...   \n",
       "educ               object\n",
       "race               object\n",
       "gender             object\n",
       "income_cat         object\n",
       "voter_category     object\n",
       "Length: 119, dtype: object"
      ]
     },
     "execution_count": 6,
     "metadata": {},
     "output_type": "execute_result"
    }
   ],
   "source": [
    "df.dtypes"
   ]
  },
  {
   "cell_type": "code",
   "execution_count": 7,
   "metadata": {},
   "outputs": [],
   "source": [
    "df = df.rename(columns={\"Q2_1\":\"Voting\",\n",
    "        \"Q2_7\":\"Military Support\",\n",
    "        \"Q2_9\":\"Believing in God\",\n",
    "        \"Q2_10\":\"Protesting\", \"Q3_1\": \"Racism_US\",\"Q3_2\": \"Racism_Policing\"})\n",
    "\n",
    "df = df.copy().loc[:,[\"Voting\",\"Military Support\",\"Believing in God\",\"Protesting\",\"Racism_US\",\"Racism_Policing\",\"weight\",\"ppage\",\"educ\",\"race\",\"gender\",\"income_cat\",\"voter_category\"]]\n"
   ]
  },
  {
   "cell_type": "markdown",
   "metadata": {},
   "source": [
    "## Heatmaps\n",
    "\n",
    "Now, we'll create a series of heatmaps to investigate the trends"
   ]
  },
  {
   "cell_type": "code",
   "execution_count": 8,
   "metadata": {},
   "outputs": [
    {
     "data": {
      "text/plain": [
       "<AxesSubplot:>"
      ]
     },
     "execution_count": 8,
     "metadata": {},
     "output_type": "execute_result"
    },
    {
     "data": {
      "image/png": "[encoded data removed]",
      "text/plain": [
       "<Figure size 432x288 with 2 Axes>"
      ]
     },
     "metadata": {
      "needs_background": "light"
     },
     "output_type": "display_data"
    }
   ],
   "source": [
    "sns.heatmap(df.corr(),cbar=True,annot=True,cmap='Blues')"
   ]
  },
  {
   "cell_type": "code",
   "execution_count": 9,
   "metadata": {},
   "outputs": [
    {
     "data": {
      "text/html": [
       "<div>\n",
       "<style scoped>\n",
       "    .dataframe tbody tr th:only-of-type {\n",
       "        vertical-align: middle;\n",
       "    }\n",
       "\n",
       "    .dataframe tbody tr th {\n",
       "        vertical-align: top;\n",
       "    }\n",
       "\n",
       "    .dataframe thead th {\n",
       "        text-align: right;\n",
       "    }\n",
       "</style>\n",
       "<table border=\"1\" class=\"dataframe\">\n",
       "  <thead>\n",
       "    <tr style=\"text-align: right;\">\n",
       "      <th></th>\n",
       "      <th>Voting</th>\n",
       "      <th>Military Support</th>\n",
       "      <th>Believing in God</th>\n",
       "      <th>Protesting</th>\n",
       "      <th>Racism_US</th>\n",
       "      <th>Racism_Policing</th>\n",
       "      <th>weight</th>\n",
       "      <th>ppage</th>\n",
       "      <th>educ</th>\n",
       "      <th>race</th>\n",
       "      <th>gender</th>\n",
       "      <th>income_cat</th>\n",
       "      <th>voter_category</th>\n",
       "    </tr>\n",
       "  </thead>\n",
       "  <tbody>\n",
       "    <tr>\n",
       "      <th>0</th>\n",
       "      <td>1</td>\n",
       "      <td>2</td>\n",
       "      <td>4</td>\n",
       "      <td>2</td>\n",
       "      <td>1</td>\n",
       "      <td>1</td>\n",
       "      <td>0.7516</td>\n",
       "      <td>73</td>\n",
       "      <td>College</td>\n",
       "      <td>White</td>\n",
       "      <td>Female</td>\n",
       "      <td>$75-125k</td>\n",
       "      <td>always</td>\n",
       "    </tr>\n",
       "    <tr>\n",
       "      <th>1</th>\n",
       "      <td>1</td>\n",
       "      <td>2</td>\n",
       "      <td>1</td>\n",
       "      <td>3</td>\n",
       "      <td>3</td>\n",
       "      <td>3</td>\n",
       "      <td>1.0267</td>\n",
       "      <td>90</td>\n",
       "      <td>College</td>\n",
       "      <td>White</td>\n",
       "      <td>Female</td>\n",
       "      <td>$125k or more</td>\n",
       "      <td>always</td>\n",
       "    </tr>\n",
       "    <tr>\n",
       "      <th>2</th>\n",
       "      <td>1</td>\n",
       "      <td>2</td>\n",
       "      <td>4</td>\n",
       "      <td>3</td>\n",
       "      <td>2</td>\n",
       "      <td>2</td>\n",
       "      <td>1.0844</td>\n",
       "      <td>53</td>\n",
       "      <td>College</td>\n",
       "      <td>White</td>\n",
       "      <td>Male</td>\n",
       "      <td>$125k or more</td>\n",
       "      <td>sporadic</td>\n",
       "    </tr>\n",
       "    <tr>\n",
       "      <th>3</th>\n",
       "      <td>1</td>\n",
       "      <td>1</td>\n",
       "      <td>1</td>\n",
       "      <td>2</td>\n",
       "      <td>1</td>\n",
       "      <td>1</td>\n",
       "      <td>0.6817</td>\n",
       "      <td>58</td>\n",
       "      <td>Some college</td>\n",
       "      <td>Black</td>\n",
       "      <td>Female</td>\n",
       "      <td>$40-75k</td>\n",
       "      <td>sporadic</td>\n",
       "    </tr>\n",
       "    <tr>\n",
       "      <th>4</th>\n",
       "      <td>1</td>\n",
       "      <td>1</td>\n",
       "      <td>1</td>\n",
       "      <td>1</td>\n",
       "      <td>4</td>\n",
       "      <td>-1</td>\n",
       "      <td>0.9910</td>\n",
       "      <td>81</td>\n",
       "      <td>High school or less</td>\n",
       "      <td>White</td>\n",
       "      <td>Male</td>\n",
       "      <td>$40-75k</td>\n",
       "      <td>always</td>\n",
       "    </tr>\n",
       "  </tbody>\n",
       "</table>\n",
       "</div>"
      ],
      "text/plain": [
       "   Voting  Military Support  Believing in God  Protesting  Racism_US  \\\n",
       "0       1                 2                 4           2          1   \n",
       "1       1                 2                 1           3          3   \n",
       "2       1                 2                 4           3          2   \n",
       "3       1                 1                 1           2          1   \n",
       "4       1                 1                 1           1          4   \n",
       "\n",
       "   Racism_Policing  weight  ppage                 educ   race  gender  \\\n",
       "0                1  0.7516     73              College  White  Female   \n",
       "1                3  1.0267     90              College  White  Female   \n",
       "2                2  1.0844     53              College  White    Male   \n",
       "3                1  0.6817     58         Some college  Black  Female   \n",
       "4               -1  0.9910     81  High school or less  White    Male   \n",
       "\n",
       "      income_cat voter_category  \n",
       "0       $75-125k         always  \n",
       "1  $125k or more         always  \n",
       "2  $125k or more       sporadic  \n",
       "3        $40-75k       sporadic  \n",
       "4        $40-75k         always  "
      ]
     },
     "execution_count": 9,
     "metadata": {},
     "output_type": "execute_result"
    }
   ],
   "source": [
    "df.head()"
   ]
  },
  {
   "cell_type": "markdown",
   "metadata": {},
   "source": [
    "## Binning our data\n",
    "\n",
    "We'll want to make sure our demographic data is strucutured for visualization and analysis."
   ]
  },
  {
   "cell_type": "code",
   "execution_count": 10,
   "metadata": {},
   "outputs": [
    {
     "name": "stdout",
     "output_type": "stream",
     "text": [
      "There are 72 values for ppage:\n",
      "[73, 90, 53, 58, 81, 61, 80, 68, 70, 83, 43, 42, 48, 52, 76, 63, 46, 62, 84, 71, 50, 77, 67, 54, 47, 87, 55, 64, 82, 66, 75, 59, 44, 36, 56, 57, 29, 38, 26, 27, 28, 49, 72, 39, 40, 74, 65, 89, 69, 79, 30, 41, 78, 60, 25, 22, 88, 31, 35, 85, 32, 51, 45, 86, 37, 92, 33, 24, 34, 23, 94, 91]\n",
      "\n",
      "\n",
      "There are 3 values for educ:\n",
      "['College', 'Some college', 'High school or less']\n",
      "\n",
      "\n",
      "There are 4 values for race:\n",
      "['White', 'Black', 'Other/Mixed', 'Hispanic']\n",
      "\n",
      "\n",
      "There are 2 values for gender:\n",
      "['Female', 'Male']\n",
      "\n",
      "\n",
      "There are 4 values for income_cat:\n",
      "['$75-125k', '$125k or more', '$40-75k', 'Less than $40k']\n",
      "\n",
      "\n"
     ]
    }
   ],
   "source": [
    "def get_column_values(dataframe, column_list):\n",
    "    \"\"\"Get values for columns\"\"\"\n",
    "    for i in column_list:\n",
    "        print (\"There are\",len((dataframe[i].unique().tolist())), \"values for\", i+\":\")\n",
    "        print (dataframe[i].unique().tolist())\n",
    "        print (\"\\n\")\n",
    "\n",
    "    \n",
    "get_column_values(df, [\"ppage\",\"educ\",\"race\",\"gender\",\"income_cat\"])"
   ]
  },
  {
   "cell_type": "markdown",
   "metadata": {},
   "source": [
    "We can see that, aside from age, the other columns don't have too many values. \n",
    "\n",
    "For that reason, we're going to create bins for age- to make our analysis easier."
   ]
  },
  {
   "cell_type": "code",
   "execution_count": 11,
   "metadata": {},
   "outputs": [
    {
     "data": {
      "text/html": [
       "<div>\n",
       "<style scoped>\n",
       "    .dataframe tbody tr th:only-of-type {\n",
       "        vertical-align: middle;\n",
       "    }\n",
       "\n",
       "    .dataframe tbody tr th {\n",
       "        vertical-align: top;\n",
       "    }\n",
       "\n",
       "    .dataframe thead th {\n",
       "        text-align: right;\n",
       "    }\n",
       "</style>\n",
       "<table border=\"1\" class=\"dataframe\">\n",
       "  <thead>\n",
       "    <tr style=\"text-align: right;\">\n",
       "      <th></th>\n",
       "      <th>Voting</th>\n",
       "      <th>Military Support</th>\n",
       "      <th>Believing in God</th>\n",
       "      <th>Protesting</th>\n",
       "      <th>Racism_US</th>\n",
       "      <th>Racism_Policing</th>\n",
       "      <th>weight</th>\n",
       "      <th>ppage</th>\n",
       "      <th>educ</th>\n",
       "      <th>race</th>\n",
       "      <th>gender</th>\n",
       "      <th>income_cat</th>\n",
       "      <th>voter_category</th>\n",
       "      <th>Age</th>\n",
       "    </tr>\n",
       "  </thead>\n",
       "  <tbody>\n",
       "    <tr>\n",
       "      <th>0</th>\n",
       "      <td>1</td>\n",
       "      <td>2</td>\n",
       "      <td>4</td>\n",
       "      <td>2</td>\n",
       "      <td>1</td>\n",
       "      <td>1</td>\n",
       "      <td>0.7516</td>\n",
       "      <td>73</td>\n",
       "      <td>College</td>\n",
       "      <td>White</td>\n",
       "      <td>Female</td>\n",
       "      <td>$75-125k</td>\n",
       "      <td>always</td>\n",
       "      <td>72-76</td>\n",
       "    </tr>\n",
       "    <tr>\n",
       "      <th>1</th>\n",
       "      <td>1</td>\n",
       "      <td>2</td>\n",
       "      <td>1</td>\n",
       "      <td>3</td>\n",
       "      <td>3</td>\n",
       "      <td>3</td>\n",
       "      <td>1.0267</td>\n",
       "      <td>90</td>\n",
       "      <td>College</td>\n",
       "      <td>White</td>\n",
       "      <td>Female</td>\n",
       "      <td>$125k or more</td>\n",
       "      <td>always</td>\n",
       "      <td>87-91</td>\n",
       "    </tr>\n",
       "    <tr>\n",
       "      <th>2</th>\n",
       "      <td>1</td>\n",
       "      <td>2</td>\n",
       "      <td>4</td>\n",
       "      <td>3</td>\n",
       "      <td>2</td>\n",
       "      <td>2</td>\n",
       "      <td>1.0844</td>\n",
       "      <td>53</td>\n",
       "      <td>College</td>\n",
       "      <td>White</td>\n",
       "      <td>Male</td>\n",
       "      <td>$125k or more</td>\n",
       "      <td>sporadic</td>\n",
       "      <td>52-56</td>\n",
       "    </tr>\n",
       "    <tr>\n",
       "      <th>3</th>\n",
       "      <td>1</td>\n",
       "      <td>1</td>\n",
       "      <td>1</td>\n",
       "      <td>2</td>\n",
       "      <td>1</td>\n",
       "      <td>1</td>\n",
       "      <td>0.6817</td>\n",
       "      <td>58</td>\n",
       "      <td>Some college</td>\n",
       "      <td>Black</td>\n",
       "      <td>Female</td>\n",
       "      <td>$40-75k</td>\n",
       "      <td>sporadic</td>\n",
       "      <td>57-61</td>\n",
       "    </tr>\n",
       "    <tr>\n",
       "      <th>4</th>\n",
       "      <td>1</td>\n",
       "      <td>1</td>\n",
       "      <td>1</td>\n",
       "      <td>1</td>\n",
       "      <td>4</td>\n",
       "      <td>-1</td>\n",
       "      <td>0.9910</td>\n",
       "      <td>81</td>\n",
       "      <td>High school or less</td>\n",
       "      <td>White</td>\n",
       "      <td>Male</td>\n",
       "      <td>$40-75k</td>\n",
       "      <td>always</td>\n",
       "      <td>77-81</td>\n",
       "    </tr>\n",
       "    <tr>\n",
       "      <th>...</th>\n",
       "      <td>...</td>\n",
       "      <td>...</td>\n",
       "      <td>...</td>\n",
       "      <td>...</td>\n",
       "      <td>...</td>\n",
       "      <td>...</td>\n",
       "      <td>...</td>\n",
       "      <td>...</td>\n",
       "      <td>...</td>\n",
       "      <td>...</td>\n",
       "      <td>...</td>\n",
       "      <td>...</td>\n",
       "      <td>...</td>\n",
       "      <td>...</td>\n",
       "    </tr>\n",
       "    <tr>\n",
       "      <th>5831</th>\n",
       "      <td>1</td>\n",
       "      <td>2</td>\n",
       "      <td>3</td>\n",
       "      <td>1</td>\n",
       "      <td>1</td>\n",
       "      <td>1</td>\n",
       "      <td>1.1916</td>\n",
       "      <td>27</td>\n",
       "      <td>Some college</td>\n",
       "      <td>Hispanic</td>\n",
       "      <td>Male</td>\n",
       "      <td>$40-75k</td>\n",
       "      <td>always</td>\n",
       "      <td>27-31</td>\n",
       "    </tr>\n",
       "    <tr>\n",
       "      <th>5832</th>\n",
       "      <td>1</td>\n",
       "      <td>1</td>\n",
       "      <td>1</td>\n",
       "      <td>1</td>\n",
       "      <td>1</td>\n",
       "      <td>1</td>\n",
       "      <td>1.4623</td>\n",
       "      <td>59</td>\n",
       "      <td>High school or less</td>\n",
       "      <td>White</td>\n",
       "      <td>Female</td>\n",
       "      <td>$125k or more</td>\n",
       "      <td>rarely/never</td>\n",
       "      <td>57-61</td>\n",
       "    </tr>\n",
       "    <tr>\n",
       "      <th>5833</th>\n",
       "      <td>1</td>\n",
       "      <td>2</td>\n",
       "      <td>4</td>\n",
       "      <td>1</td>\n",
       "      <td>1</td>\n",
       "      <td>3</td>\n",
       "      <td>0.9252</td>\n",
       "      <td>51</td>\n",
       "      <td>College</td>\n",
       "      <td>Other/Mixed</td>\n",
       "      <td>Male</td>\n",
       "      <td>$125k or more</td>\n",
       "      <td>sporadic</td>\n",
       "      <td>47-51</td>\n",
       "    </tr>\n",
       "    <tr>\n",
       "      <th>5834</th>\n",
       "      <td>2</td>\n",
       "      <td>2</td>\n",
       "      <td>2</td>\n",
       "      <td>2</td>\n",
       "      <td>4</td>\n",
       "      <td>3</td>\n",
       "      <td>2.6311</td>\n",
       "      <td>22</td>\n",
       "      <td>High school or less</td>\n",
       "      <td>Black</td>\n",
       "      <td>Female</td>\n",
       "      <td>Less than $40k</td>\n",
       "      <td>always</td>\n",
       "      <td>22-26</td>\n",
       "    </tr>\n",
       "    <tr>\n",
       "      <th>5835</th>\n",
       "      <td>1</td>\n",
       "      <td>2</td>\n",
       "      <td>3</td>\n",
       "      <td>1</td>\n",
       "      <td>1</td>\n",
       "      <td>1</td>\n",
       "      <td>1.6218</td>\n",
       "      <td>22</td>\n",
       "      <td>High school or less</td>\n",
       "      <td>Black</td>\n",
       "      <td>Female</td>\n",
       "      <td>Less than $40k</td>\n",
       "      <td>always</td>\n",
       "      <td>22-26</td>\n",
       "    </tr>\n",
       "  </tbody>\n",
       "</table>\n",
       "<p>5836 rows × 14 columns</p>\n",
       "</div>"
      ],
      "text/plain": [
       "      Voting  Military Support  Believing in God  Protesting  Racism_US  \\\n",
       "0          1                 2                 4           2          1   \n",
       "1          1                 2                 1           3          3   \n",
       "2          1                 2                 4           3          2   \n",
       "3          1                 1                 1           2          1   \n",
       "4          1                 1                 1           1          4   \n",
       "...      ...               ...               ...         ...        ...   \n",
       "5831       1                 2                 3           1          1   \n",
       "5832       1                 1                 1           1          1   \n",
       "5833       1                 2                 4           1          1   \n",
       "5834       2                 2                 2           2          4   \n",
       "5835       1                 2                 3           1          1   \n",
       "\n",
       "      Racism_Policing  weight  ppage                 educ         race  \\\n",
       "0                   1  0.7516     73              College        White   \n",
       "1                   3  1.0267     90              College        White   \n",
       "2                   2  1.0844     53              College        White   \n",
       "3                   1  0.6817     58         Some college        Black   \n",
       "4                  -1  0.9910     81  High school or less        White   \n",
       "...               ...     ...    ...                  ...          ...   \n",
       "5831                1  1.1916     27         Some college     Hispanic   \n",
       "5832                1  1.4623     59  High school or less        White   \n",
       "5833                3  0.9252     51              College  Other/Mixed   \n",
       "5834                3  2.6311     22  High school or less        Black   \n",
       "5835                1  1.6218     22  High school or less        Black   \n",
       "\n",
       "      gender      income_cat voter_category    Age  \n",
       "0     Female        $75-125k         always  72-76  \n",
       "1     Female   $125k or more         always  87-91  \n",
       "2       Male   $125k or more       sporadic  52-56  \n",
       "3     Female         $40-75k       sporadic  57-61  \n",
       "4       Male         $40-75k         always  77-81  \n",
       "...      ...             ...            ...    ...  \n",
       "5831    Male         $40-75k         always  27-31  \n",
       "5832  Female   $125k or more   rarely/never  57-61  \n",
       "5833    Male   $125k or more       sporadic  47-51  \n",
       "5834  Female  Less than $40k         always  22-26  \n",
       "5835  Female  Less than $40k         always  22-26  \n",
       "\n",
       "[5836 rows x 14 columns]"
      ]
     },
     "execution_count": 11,
     "metadata": {},
     "output_type": "execute_result"
    }
   ],
   "source": [
    "label_values = [\"22-26\",\"27-31\",\"32-36\",\"37-41\",\"42-46\",\"47-51\",\"52-56\",\"57-61\",\"62-66\",\"67-71\",\"72-76\",\"77-81\",\"82-86\",\"87-91\",\"92-94\"]\n",
    "bins = [21,26,31,36,41,46,51,56,61,66,71,76,81,86,91,94]\n",
    "\n",
    "def create_bins(dataframe, column, new_column_name, label_values, bins):\n",
    "    \"\"\"Function to create bins for our data\"\"\"\n",
    "    dataframe[new_column_name] = pd.cut(dataframe[column], bins, labels = label_values)\n",
    "\n",
    "create_bins(df, \"ppage\", \"Age\", label_values, bins)\n",
    "\n",
    "df"
   ]
  },
  {
   "cell_type": "code",
   "execution_count": 13,
   "metadata": {},
   "outputs": [
    {
     "data": {
      "image/png": "[encoded data removed]",
      "text/plain": [
       "<Figure size 576x360 with 1 Axes>"
      ]
     },
     "metadata": {
      "needs_background": "light"
     },
     "output_type": "display_data"
    },
    {
     "data": {
      "image/png": "[encoded data removed]",
      "text/plain": [
       "<Figure size 576x360 with 1 Axes>"
      ]
     },
     "metadata": {
      "needs_background": "light"
     },
     "output_type": "display_data"
    },
    {
     "data": {
      "image/png": "[encoded data removed]",
      "text/plain": [
       "<Figure size 576x360 with 1 Axes>"
      ]
     },
     "metadata": {
      "needs_background": "light"
     },
     "output_type": "display_data"
    },
    {
     "data": {
      "image/png": "[encoded data removed]",
      "text/plain": [
       "<Figure size 576x360 with 1 Axes>"
      ]
     },
     "metadata": {
      "needs_background": "light"
     },
     "output_type": "display_data"
    },
    {
     "data": {
      "image/png": "[encoded data removed]",
      "text/plain": [
       "<Figure size 576x360 with 1 Axes>"
      ]
     },
     "metadata": {
      "needs_background": "light"
     },
     "output_type": "display_data"
    },
    {
     "data": {
      "image/png": "[encoded data removed]",
      "text/plain": [
       "<Figure size 576x360 with 1 Axes>"
      ]
     },
     "metadata": {
      "needs_background": "light"
     },
     "output_type": "display_data"
    }
   ],
   "source": [
    "x_values = [\"educ\",\"Age\",\"race\",\"gender\", \"income_cat\",\"voter_category\"]\n",
    "dataframe = df \n",
    "def create_countplot(x_values, dataframe):\n",
    "    \"\"\"Creates distribution plot for categorical variables\"\"\"\n",
    "    for variable in x_values:\n",
    "        plt.figure(figsize=(8,5))\n",
    "        plot_title = (\"Distribution of \"+variable)\n",
    "        plt.title(plot_title)\n",
    "        sns.countplot(x=variable,data = dataframe, palette='rainbow')\n",
    "\n",
    "        \n",
    "\n",
    "create_countplot(x_values, dataframe)"
   ]
  }
 ],
 "metadata": {
  "kernelspec": {
   "display_name": "Python 3.10.1 64-bit",
   "language": "python",
   "name": "python3"
  },
  "language_info": {
   "codemirror_mode": {
    "name": "ipython",
    "version": 3
   },
   "file_extension": ".py",
   "mimetype": "text/x-python",
   "name": "python",
   "nbconvert_exporter": "python",
   "pygments_lexer": "ipython3",
   "version": "3.10.1"
  },
  "orig_nbformat": 4,
  "vscode": {
   "interpreter": {
    "hash": "aee8b7b246df8f9039afb4144a1f6fd8d2ca17a180786b69acc140d282b71a49"
   }
  }
 },
 "nbformat": 4,
 "nbformat_minor": 2
}
