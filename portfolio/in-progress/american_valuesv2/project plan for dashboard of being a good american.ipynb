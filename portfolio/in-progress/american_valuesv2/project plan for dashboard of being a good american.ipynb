{
 "cells": [
  {
   "cell_type": "markdown",
   "id": "f7ae260d",
   "metadata": {},
   "source": [
    "# Phase 1 \n",
    "EDA\n",
    "\n",
    "object oriented approach to data analysis\n",
    "\n",
    "\n",
    "Summary Statistics for general population \n"
   ]
  },
  {
   "cell_type": "markdown",
   "id": "1532fb50",
   "metadata": {},
   "source": [
    "# Phase 2 \n",
    "\n",
    "interactive dashboards for exploratory analysis\n",
    "\n",
    "-Replace 1-4 with strong agree- strong disagree"
   ]
  },
  {
   "cell_type": "markdown",
   "id": "98d3b602",
   "metadata": {},
   "source": [
    "# Phase 3\n",
    "generates text that tells reader how many of people in their demographic agree with their statements\n",
    "\n",
    "interactive dashboards for exploratory analysis that segments by demographic (allowing you to compare the mode that is weighted to reflect the demographic\n",
    "\n",
    "weighting for data: data visualizations reflect how likely the respondent reflects the general population \n"
   ]
  },
  {
   "cell_type": "markdown",
   "id": "912f3e78",
   "metadata": {},
   "source": []
  },
  {
   "cell_type": "markdown",
   "id": "665e3d0e",
   "metadata": {},
   "source": [
    "# Final requirements list\n",
    "\n",
    "object oriented approach to data analysis\n",
    "generates text that tells reader how many of people in their demographic agree with their statements\n",
    "Summary Statistics for general population \n",
    "\n",
    "\n",
    "weighting for data: data visualizations reflect how likely the respondent reflects the general population \n",
    "\n",
    "interactive dashboards for exploratory analysis that segments by demographic (allowing you to compare the mode that is weighted to reflect the demographic\n",
    "\n",
    "EDA\n",
    "\n",
    "https://www.analyticsvidhya.com/blog/2021/08/how-to-perform-exploratory-data-analysis-a-guide-for-beginners/\n",
    "\n",
    "https://www.youtube.com/watch?v=ZT_hlZLYHyQ\n",
    "\n",
    "https://therebeckoning.herokuapp.com/#good-american\n",
    "\n",
    "https://www.sharpsightlabs.com/blog/seaborn-histogram/\n"
   ]
  },
  {
   "cell_type": "markdown",
   "id": "4959b88f",
   "metadata": {},
   "source": [
    "# Notes\n",
    "\n",
    "The analysis for this dataset involved how to best structure and manipulate categorial data. It's useful for thinkign about the issues with how data is collected and strucutred from an equity perspective- \n",
    "\n"
   ]
  },
  {
   "cell_type": "markdown",
   "id": "c70da0ff",
   "metadata": {},
   "source": [
    "# Phase 1:\n",
    "\n",
    "We are interested in understanding whether or not respondent's socioeconmic status (education, age, race, gender, class) and prior voting history affects how they define being a good American and the effects of systemic racism. \n",
    "\n",
    "For example, do Americans that are more highly educated more likely to believe that voting is important to being a good American? Or are black Americans more likely to report that racism in policing is due to systemic racism?\n",
    "\n",
    "For each demographic, we will sort the number of respondents who responded a certain way (flip the bar plot)\n",
    "\n",
    "\n",
    "Voting\tMilitary Support\tBelieving in God\tProtesting\n",
    "\n",
    "Racism_US\tRacism_Policing"
   ]
  }
 ],
 "metadata": {
  "kernelspec": {
   "display_name": "Python 3 (ipykernel)",
   "language": "python",
   "name": "python3"
  },
  "language_info": {
   "codemirror_mode": {
    "name": "ipython",
    "version": 3
   },
   "file_extension": ".py",
   "mimetype": "text/x-python",
   "name": "python",
   "nbconvert_exporter": "python",
   "pygments_lexer": "ipython3",
   "version": "3.10.1"
  }
 },
 "nbformat": 4,
 "nbformat_minor": 5
}
