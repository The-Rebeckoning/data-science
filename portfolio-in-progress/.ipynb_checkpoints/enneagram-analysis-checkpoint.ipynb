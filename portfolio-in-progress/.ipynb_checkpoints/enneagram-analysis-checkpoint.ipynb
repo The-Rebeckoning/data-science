{
 "cells": [
  {
   "cell_type": "markdown",
   "metadata": {},
   "source": [
    "# What personality is most popular? Ask the enneagram\n",
    "\n",
    "\n",
    "In this analysis, I'll explore \n"
   ]
  },
  {
   "cell_type": "markdown",
   "metadata": {},
   "source": [
    "## What is the enneagram and why does it matter?\n",
    "\n",
    "I've taken many personality tests throughout my life. Of the ones I've taken, the enneagram is hands down the most accurate. \n",
    "\n",
    "The nitty gritty simplified version is that every person has a basic type that represents their core personality. There's debate about how people come to develop their type (ie nature versus nurture) but what's important is that, once formed, it doesn't change. \n",
    "\n",
    "You are who are you but who you are at your best and your worst matters too- which the enneagram also accounts for. Each type shows certain behaviors when they're at their best (\"growth\") and  worst (\"stress\"). \n",
    "\n",
    "The types are organized into three centers: gut, head, and heart. The center describes the dominant emotions of that type. \n",
    "\n",
    "https://images.squarespace-cdn.com/content/v1/585179fe1b631b51e1837bac/1481830705381-FMNUA25BWM3H4KHDVIUI/image-asset.gif?format=750w\n",
    "\n",
    "- Gut (instinctive): Types Eight, Nine and One\n",
    "\n",
    "Gut enenagram types are most likley to feel anger/rage and instinctively act on those feelings (but not neccesarily consciouly). They deal with anger/rage. \n",
    "\n",
    "- Heart: Types Two, Three and Four\n",
    "\n",
    "Heart types are most likely to feel things deeply and act on those emotions. They struggle with feelings of shame.\n",
    "\n",
    "- Head: Types Five, Six and Seven\n",
    "\n",
    "Head types are thinking types and respond based on what their minds tell them to do.  They are most likely to be plagued by fear/anxiety.\n",
    "\n",
    "\n",
    "\n",
    "Every type has certain tendencies and, depending on whether they're in a good place or a bad place, they sometimes assume the traits of another type. For example, as a three, when I'm at my best I can seem like a healthy six and at my worst an unhealthy nine.\n",
    "\n",
    "\n",
    "\n",
    "Here's a picture showing how the types fit together [add pic] and a high level list of the type descriptions below. If you'd like to take the test, here's a free on I like. If you're inspired by my analysis and looking to spend some $$, I'd reccomend the one from the Enneagram Insitute. \n",
    "\n",
    "\n",
    "They are as follows https://www.enneagraminstitute.com/type-descriptions:\n",
    "\n",
    "1 THE REFORMER\n",
    "The Rational, Idealistic Type: Principled, Purposeful, Self-Controlled, and Perfectionistic\n",
    "\n",
    "2 THE HELPER\n",
    "The Caring, Interpersonal Type: Demonstrative, Generous, People-Pleasing, and Possessive\n",
    "\n",
    "3 THE ACHIEVER\n",
    "The Success-Oriented, Pragmatic Type: Adaptive, Excelling, Driven, and Image-Conscious\n",
    "\n",
    "4 THE INDIVIDUALIST\n",
    "The Sensitive, Withdrawn Type: Expressive, Dramatic, Self-Absorbed, and Temperamental\n",
    "\n",
    "5 THE INVESTIGATOR\n",
    "The Intense, Cerebral Type: Perceptive, Innovative, Secretive, and Isolated\n",
    "\n",
    "6 THE LOYALIST\n",
    "The Committed, Security-Oriented Type: Engaging, Responsible, Anxious, and Suspicious\n",
    "\n",
    "7 THE ENTHUSIAST\n",
    "The Busy, Fun-Loving Type: Spontaneous, Versatile, Distractible, and Scattered\n",
    "\n",
    "8 THE CHALLENGER\n",
    "The Powerful, Dominating Type: Self-Confident, Decisive, Willful, and Confrontational\n",
    "\n",
    "9 THE PEACEMAKER\n",
    "The Easygoing, Self-Effacing Type: Receptive, Reassuring, Agreeable, and Complacent\n",
    "\n",
    " "
   ]
  },
  {
   "cell_type": "markdown",
   "metadata": {},
   "source": [
    "# Data Cleanup"
   ]
  },
  {
   "cell_type": "code",
   "execution_count": 3,
   "metadata": {},
   "outputs": [
    {
     "name": "stderr",
     "output_type": "stream",
     "text": [
      "/var/folders/m7/pr2047y173x50c8xddxm6ndr0000gn/T/ipykernel_35946/240751699.py:25: SettingWithCopyWarning: \n",
      "A value is trying to be set on a copy of a slice from a DataFrame.\n",
      "Try using .loc[row_indexer,col_indexer] = value instead\n",
      "\n",
      "See the caveats in the documentation: https://pandas.pydata.org/pandas-docs/stable/user_guide/indexing.html#returning-a-view-versus-a-copy\n",
      "  types_subset['typenum']=types_subset['enneagram'].apply(lambda x: find_number(x))\n",
      "/Library/Frameworks/Python.framework/Versions/3.10/lib/python3.10/site-packages/pandas/core/frame.py:5039: SettingWithCopyWarning: \n",
      "A value is trying to be set on a copy of a slice from a DataFrame\n",
      "\n",
      "See the caveats in the documentation: https://pandas.pydata.org/pandas-docs/stable/user_guide/indexing.html#returning-a-view-versus-a-copy\n",
      "  return super().rename(\n"
     ]
    }
   ],
   "source": [
    "# Import pandas, pandasql, sklearn, seborn and regex\n",
    "\n",
    "import pandas as pd\n",
    "from pandasql import sqldf\n",
    "import seaborn as sns \n",
    "import regex as re\n",
    "\n",
    "\n",
    "# Create a dataframe from the raw data\n",
    "\n",
    "types = pd.read_csv('dataset.csv')\n",
    "\n",
    "# Create a new df the columns we need\n",
    "\n",
    "types_subset = types[[\"enneagram\",\"wing\", \"accuracy.enneagram\",\"timestamp\"]]\n",
    "\n",
    "# Create a function to extract the number from the enneagram string\n",
    "\n",
    "def find_number(text):\n",
    "    num = re.findall(r'[0-9]+',text)\n",
    "    return \" \".join(num)\n",
    "\n",
    "# Using the function above, create a new column that has the enneagream type of a number\n",
    "\n",
    "types_subset['typenum']=types_subset['enneagram'].apply(lambda x: find_number(x))\n",
    "\n",
    "# Relabel the accuracy column for readibility \n",
    "\n",
    "types_subset.rename(columns = {'accuracy.enneagram':'accuracy'}, inplace = True)\n",
    "\n",
    "# Create new column for heart, head and body types\n",
    "\n",
    "types_subset"
   ]
  },
  {
   "cell_type": "code",
   "execution_count": 4,
   "metadata": {},
   "outputs": [
    {
     "data": {
      "text/html": [
       "<div>\n",
       "<style scoped>\n",
       "    .dataframe tbody tr th:only-of-type {\n",
       "        vertical-align: middle;\n",
       "    }\n",
       "\n",
       "    .dataframe tbody tr th {\n",
       "        vertical-align: top;\n",
       "    }\n",
       "\n",
       "    .dataframe thead th {\n",
       "        text-align: right;\n",
       "    }\n",
       "</style>\n",
       "<table border=\"1\" class=\"dataframe\">\n",
       "  <thead>\n",
       "    <tr style=\"text-align: right;\">\n",
       "      <th></th>\n",
       "      <th>enneagram</th>\n",
       "      <th>Number of people per type</th>\n",
       "    </tr>\n",
       "  </thead>\n",
       "  <tbody>\n",
       "    <tr>\n",
       "      <th>0</th>\n",
       "      <td>Type 1 (the Reformer or Perfectionist)</td>\n",
       "      <td>337</td>\n",
       "    </tr>\n",
       "    <tr>\n",
       "      <th>1</th>\n",
       "      <td>Type 2 (the Helper or Giver)</td>\n",
       "      <td>388</td>\n",
       "    </tr>\n",
       "    <tr>\n",
       "      <th>2</th>\n",
       "      <td>Type 3 (the Performer or Achiever)</td>\n",
       "      <td>192</td>\n",
       "    </tr>\n",
       "    <tr>\n",
       "      <th>3</th>\n",
       "      <td>Type 4 (the Individualist or Romantic)</td>\n",
       "      <td>406</td>\n",
       "    </tr>\n",
       "    <tr>\n",
       "      <th>4</th>\n",
       "      <td>Type 5 (the Investigator or Observer)</td>\n",
       "      <td>345</td>\n",
       "    </tr>\n",
       "    <tr>\n",
       "      <th>5</th>\n",
       "      <td>Type 6 (the Loyalist or Loyal Skeptic)</td>\n",
       "      <td>347</td>\n",
       "    </tr>\n",
       "    <tr>\n",
       "      <th>6</th>\n",
       "      <td>Type 7 (the Enthusiast or Epicure)</td>\n",
       "      <td>176</td>\n",
       "    </tr>\n",
       "    <tr>\n",
       "      <th>7</th>\n",
       "      <td>Type 8 (the Protector or Challenger)</td>\n",
       "      <td>152</td>\n",
       "    </tr>\n",
       "    <tr>\n",
       "      <th>8</th>\n",
       "      <td>Type 9 (the Peacemaker or Mediator)</td>\n",
       "      <td>459</td>\n",
       "    </tr>\n",
       "  </tbody>\n",
       "</table>\n",
       "</div>"
      ],
      "text/plain": [
       "                                enneagram  Number of people per type\n",
       "0  Type 1 (the Reformer or Perfectionist)                        337\n",
       "1            Type 2 (the Helper or Giver)                        388\n",
       "2      Type 3 (the Performer or Achiever)                        192\n",
       "3  Type 4 (the Individualist or Romantic)                        406\n",
       "4   Type 5 (the Investigator or Observer)                        345\n",
       "5  Type 6 (the Loyalist or Loyal Skeptic)                        347\n",
       "6      Type 7 (the Enthusiast or Epicure)                        176\n",
       "7    Type 8 (the Protector or Challenger)                        152\n",
       "8     Type 9 (the Peacemaker or Mediator)                        459"
      ]
     },
     "execution_count": 4,
     "metadata": {},
     "output_type": "execute_result"
    }
   ],
   "source": [
    "q = \"SELECT enneagram, COUNT(typenum) AS 'Number of people per type' FROM types_subset GROUP BY typenum\"\n",
    "\n",
    "sqldf(q, locals())"
   ]
  },
  {
   "cell_type": "markdown",
   "metadata": {},
   "source": [
    "## Exploring the enneagram using summary statistics \n",
    "\n",
    "In this portion, I'll use central tendency statistics (mean and mode) and visualizations to answer questions about our enneagram dataset. I will not be using the median since there are no outliers in this subset of data."
   ]
  },
  {
   "cell_type": "markdown",
   "metadata": {},
   "source": [
    "### Mean: are certain enneagram types more likely to believe that the results accurately describe their personality? \n",
    "\n",
    "When people report their enneagram type, they're also asked how accurate the enneagram is describing their personality.\n",
    "\n",
    "My theory is that types that tend to be more agreeable (9, 2, 3) are more likely to report their enneagram as being accurate whereas more disagreeable types (1, 8, 6) are likely to have lower agreeability scores. \n",
    "\n",
    "Is my theory correct? Let's find out. \n"
   ]
  },
  {
   "cell_type": "code",
   "execution_count": 5,
   "metadata": {},
   "outputs": [
    {
     "data": {
      "text/html": [
       "<div>\n",
       "<style scoped>\n",
       "    .dataframe tbody tr th:only-of-type {\n",
       "        vertical-align: middle;\n",
       "    }\n",
       "\n",
       "    .dataframe tbody tr th {\n",
       "        vertical-align: top;\n",
       "    }\n",
       "\n",
       "    .dataframe thead th {\n",
       "        text-align: right;\n",
       "    }\n",
       "</style>\n",
       "<table border=\"1\" class=\"dataframe\">\n",
       "  <thead>\n",
       "    <tr style=\"text-align: right;\">\n",
       "      <th></th>\n",
       "      <th>enneagram</th>\n",
       "      <th>Average Aggreability</th>\n",
       "    </tr>\n",
       "  </thead>\n",
       "  <tbody>\n",
       "    <tr>\n",
       "      <th>0</th>\n",
       "      <td>Type 1 (the Reformer or Perfectionist)</td>\n",
       "      <td>4.002967</td>\n",
       "    </tr>\n",
       "    <tr>\n",
       "      <th>1</th>\n",
       "      <td>Type 2 (the Helper or Giver)</td>\n",
       "      <td>3.927835</td>\n",
       "    </tr>\n",
       "    <tr>\n",
       "      <th>2</th>\n",
       "      <td>Type 3 (the Performer or Achiever)</td>\n",
       "      <td>4.151042</td>\n",
       "    </tr>\n",
       "    <tr>\n",
       "      <th>3</th>\n",
       "      <td>Type 4 (the Individualist or Romantic)</td>\n",
       "      <td>4.108374</td>\n",
       "    </tr>\n",
       "    <tr>\n",
       "      <th>4</th>\n",
       "      <td>Type 5 (the Investigator or Observer)</td>\n",
       "      <td>3.704348</td>\n",
       "    </tr>\n",
       "    <tr>\n",
       "      <th>5</th>\n",
       "      <td>Type 6 (the Loyalist or Loyal Skeptic)</td>\n",
       "      <td>3.913545</td>\n",
       "    </tr>\n",
       "    <tr>\n",
       "      <th>6</th>\n",
       "      <td>Type 7 (the Enthusiast or Epicure)</td>\n",
       "      <td>3.977273</td>\n",
       "    </tr>\n",
       "    <tr>\n",
       "      <th>7</th>\n",
       "      <td>Type 8 (the Protector or Challenger)</td>\n",
       "      <td>4.197368</td>\n",
       "    </tr>\n",
       "    <tr>\n",
       "      <th>8</th>\n",
       "      <td>Type 9 (the Peacemaker or Mediator)</td>\n",
       "      <td>4.063181</td>\n",
       "    </tr>\n",
       "  </tbody>\n",
       "</table>\n",
       "</div>"
      ],
      "text/plain": [
       "                                enneagram  Average Aggreability\n",
       "0  Type 1 (the Reformer or Perfectionist)              4.002967\n",
       "1            Type 2 (the Helper or Giver)              3.927835\n",
       "2      Type 3 (the Performer or Achiever)              4.151042\n",
       "3  Type 4 (the Individualist or Romantic)              4.108374\n",
       "4   Type 5 (the Investigator or Observer)              3.704348\n",
       "5  Type 6 (the Loyalist or Loyal Skeptic)              3.913545\n",
       "6      Type 7 (the Enthusiast or Epicure)              3.977273\n",
       "7    Type 8 (the Protector or Challenger)              4.197368\n",
       "8     Type 9 (the Peacemaker or Mediator)              4.063181"
      ]
     },
     "execution_count": 5,
     "metadata": {},
     "output_type": "execute_result"
    }
   ],
   "source": [
    "q = \"SELECT enneagram, AVG(accuracy) AS 'Average Aggreability' FROM types_subset GROUP BY enneagram\"\n",
    "\n",
    "sqldf(q, locals())\n"
   ]
  },
  {
   "cell_type": "code",
   "execution_count": 6,
   "metadata": {},
   "outputs": [
    {
     "data": {
      "text/plain": [
       "enneagram\n",
       "Type 5 (the Investigator or Observer)     3.704348\n",
       "Type 6 (the Loyalist or Loyal Skeptic)    3.913545\n",
       "Type 2 (the Helper or Giver)              3.927835\n",
       "Type 7 (the Enthusiast or Epicure)        3.977273\n",
       "Type 1 (the Reformer or Perfectionist)    4.002967\n",
       "Type 9 (the Peacemaker or Mediator)       4.063181\n",
       "Type 4 (the Individualist or Romantic)    4.108374\n",
       "Type 3 (the Performer or Achiever)        4.151042\n",
       "Type 8 (the Protector or Challenger)      4.197368\n",
       "Name: accuracy, dtype: float64"
      ]
     },
     "execution_count": 6,
     "metadata": {},
     "output_type": "execute_result"
    }
   ],
   "source": [
    "types_subset.groupby(\"enneagram\")[\"accuracy\"].mean().sort_values()"
   ]
  },
  {
   "cell_type": "markdown",
   "metadata": {},
   "source": [
    "### Analysis: Givers don't see themselves as givers\n",
    "\n",
    "The type that is least likely to believe their type accurately descibes their personality are fives, followed by sixes and then twos. \n",
    "\n",
    "Of those that find the enneagram most accurate are eights, threes and fours.\n",
    "\n",
    "There could be many reasons for this variance but today I will only explore two hypotheses: confidence/insecurity and innacuracy.\n",
    "\n",
    "#### Confidence and insecurity\n",
    "\n",
    "Based on the types that are most likely to perceive their type as accurate (eights, threes, fours), a sense of confidence could explain why those who report these types identify with their enneagram.\n",
    "\n",
    "Perhaps those respodnents perceive like the definitions of these types and therefore report that they're accurate (I like who the enneagram tells me that I am).\n",
    "\n",
    "In contrast, perhaps fives, sixes and twos perceive their types more negatively and therefore report it as being innacurate.\n",
    "\n",
    "#### Innacuracy\n",
    "\n",
    "The other possible explanation for people reporting that their types don't accurately describe their personalities is because they don't and the person is actually a different type.\n",
    "\n",
    "For example, the first time I took the enneagram, I tested as two (\"The Helper\"). I told my friend this and she laughed and said \"You're not a two!\" I then took the test a few more times and found out I'm a three. I'm not even a two wing.\n",
    "\n",
    "The moral of the story here is that it's possible that people are actually testing as a different type. \n"
   ]
  },
  {
   "cell_type": "markdown",
   "metadata": {},
   "source": [
    "### Median: what is the median accuracy score grouped by type? \n",
    "\n",
    "### Mode: what is the most common enneagram type?"
   ]
  },
  {
   "cell_type": "code",
   "execution_count": 7,
   "metadata": {},
   "outputs": [
    {
     "data": {
      "text/plain": [
       "Text(0.5, 0, 'Enneagram type by count')"
      ]
     },
     "execution_count": 7,
     "metadata": {},
     "output_type": "execute_result"
    },
    {
     "data": {
      "image/png": "[encoded data removed]",
      "text/plain": [
       "<Figure size 432x288 with 1 Axes>"
      ]
     },
     "metadata": {
      "needs_background": "light"
     },
     "output_type": "display_data"
    }
   ],
   "source": [
    "# Create new dataframe to sort the values so they show in order\n",
    "\n",
    "sorted = types_subset.sort_values('typenum')\n",
    "\n",
    "# Create histogram \n",
    "\n",
    "count_enneagram_hist = sns.histplot(data=sorted, x=\"typenum\")\n",
    "\n",
    "# Label and generate the histogram\n",
    "\n",
    "count_enneagram_hist.set_xlabel(\"Enneagram type by count\")"
   ]
  }
 ],
 "metadata": {
  "interpreter": {
   "hash": "aee8b7b246df8f9039afb4144a1f6fd8d2ca17a180786b69acc140d282b71a49"
  },
  "kernelspec": {
   "display_name": "Python 3 (ipykernel)",
   "language": "python",
   "name": "python3"
  },
  "language_info": {
   "codemirror_mode": {
    "name": "ipython",
    "version": 3
   },
   "file_extension": ".py",
   "mimetype": "text/x-python",
   "name": "python",
   "nbconvert_exporter": "python",
   "pygments_lexer": "ipython3",
   "version": "3.10.1"
  }
 },
 "nbformat": 4,
 "nbformat_minor": 2
}
